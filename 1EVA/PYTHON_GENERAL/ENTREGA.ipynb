{
 "cells": [
  {
   "cell_type": "markdown",
   "metadata": {},
   "source": [
    "1) Separar números pares e impares: Dada una lista desordenada de números como [1, 2, 4, 3, 5, 8, 7, 6], crea una función que separe en dos listas ordenadas, una de números pares y otra de números impares.\n"
   ]
  },
  {
   "cell_type": "code",
   "execution_count": 2,
   "metadata": {},
   "outputs": [
    {
     "name": "stdout",
     "output_type": "stream",
     "text": [
      "PARES: [1, 3, 5, 7, 9]\n",
      "IMPARES: [2, 4, 6, 8, 10]\n"
     ]
    }
   ],
   "source": [
    "lista=[1,2,3,4,5,6,7,8,9,10]\n",
    "\n",
    "\n",
    "def sacarListaOrdenada(lista):\n",
    "    \n",
    "    listaPar = []\n",
    "    listaImpar = []\n",
    "    \n",
    "    for i in range(len(lista)):\n",
    "        if i % 2 == 0:\n",
    "            listaPar.append(lista[i])\n",
    "        else:\n",
    "            listaImpar.append(lista[i])\n",
    "    return sorted(listaImpar),sorted(listaPar)\n",
    "            \n",
    "    \n",
    "impares,pares = sacarListaOrdenada(lista)\n",
    "\n",
    "print(\"PARES: \"+str(pares))\n",
    "print(\"IMPARES: \"+str(impares))          \n",
    "\n",
    "    \n",
    "    "
   ]
  },
  {
   "cell_type": "markdown",
   "metadata": {},
   "source": [
    "\n",
    "2) Separar números primos y compuestos: Dada una lista desordenada de números como [1, 2, 4, 3, 5, 8, 7, 6], crea una función que separe en dos listas ordenadas, una de números primos y otra de números compuestos.\n"
   ]
  },
  {
   "cell_type": "code",
   "execution_count": 15,
   "metadata": {},
   "outputs": [
    {
     "name": "stdout",
     "output_type": "stream",
     "text": [
      "PRIMOS: [1, 2, 3, 5, 7]\n",
      "COMPUESTOS: [4, 6, 8]\n"
     ]
    }
   ],
   "source": [
    "lista=[1, 2, 4, 3, 5, 8, 7, 6]\n",
    "\n",
    "def sacarPrimosCompuestos(lista):\n",
    "    \n",
    "    listaPrimos = []\n",
    "    lsitaCompuestos=[]\n",
    "    \n",
    "    for i in range(len(lista)):\n",
    "        \n",
    "               \n",
    "        if comprobarPrimo(lista[i]):\n",
    "            listaPrimos.append(lista[i])\n",
    "        else:\n",
    "            lsitaCompuestos.append(lista[i])\n",
    "            \n",
    "    return sorted(listaPrimos),sorted(lsitaCompuestos)\n",
    "\n",
    "          \n",
    "def comprobarPrimo(i:int):\n",
    "    \n",
    "    contador:int=0;\n",
    "    \n",
    "    for j in range(i+1):\n",
    "        \n",
    "        if j==0:continue\n",
    "        \n",
    "        if i%j==0:\n",
    "            \n",
    "            contador+=1\n",
    "        \n",
    "    if contador > 2:\n",
    "        return False\n",
    "    else:\n",
    "        return True\n",
    "        \n",
    "primos,compuestos=sacarPrimosCompuestos(lista)\n",
    "\n",
    "print (\"PRIMOS: \"+str(primos))\n",
    "print (\"COMPUESTOS: \"+str(compuestos))\n",
    "\n",
    "\n",
    "\n"
   ]
  },
  {
   "cell_type": "markdown",
   "metadata": {},
   "source": [
    "3) Separar números de la sucesión de Fibonacci y no: Dada una lista desordenada de números como [1, 2, 4, 3, 5, 8, 7, 6], crea una función que separe en dos listas ordenadas, una de números que estén en la sucesión de Fibonacci y otra en la que no.\n"
   ]
  },
  {
   "cell_type": "code",
   "execution_count": 22,
   "metadata": {},
   "outputs": [
    {
     "name": "stdout",
     "output_type": "stream",
     "text": [
      "EN: [1, 2, 3, 5, 8]\n",
      "NoEN: [4, 6, 7]\n"
     ]
    }
   ],
   "source": [
    "lista = [1, 2, 4, 3, 5, 8, 7, 6]\n",
    "\n",
    "def separaFibonacci(lista):\n",
    "    \n",
    "    maxValue= max(lista)\n",
    "    fibonnaci=realizarFibonnaci(maxValue)\n",
    "    \n",
    "    numEn=[];\n",
    "    numNoEn=[];\n",
    "    \n",
    "    for i in range(len(lista)):\n",
    "        if lista[i] in fibonnaci:\n",
    "            numEn.append(lista[i])\n",
    "        else:\n",
    "            numNoEn.append(lista[i]);\n",
    "            \n",
    "    return sorted(numEn),sorted(numNoEn)\n",
    "        \n",
    "\n",
    "    \n",
    "def realizarFibonnaci(i:int):\n",
    "    \n",
    "    valor=1;    \n",
    "    valorAnterior=0;\n",
    "    \n",
    "    fibonnaci=[]\n",
    "    \n",
    "    while valor<i:\n",
    "        \n",
    "        temp=valor\n",
    "        \n",
    "        \n",
    "        valor+=valorAnterior\n",
    "        \n",
    "        valorAnterior=temp\n",
    "        \n",
    "        \n",
    "                \n",
    "        fibonnaci.append(valor)\n",
    "        \n",
    "    \n",
    "    return fibonnaci\n",
    "        \n",
    "    \n",
    "numEn,numNoEn=separaFibonacci(lista)\n",
    "\n",
    "print(\"EN: \"+str(numEn))\n",
    "print(\"NoEN: \"+str(numNoEn))\n",
    "\n"
   ]
  }
 ],
 "metadata": {
  "kernelspec": {
   "display_name": "Python 3",
   "language": "python",
   "name": "python3"
  },
  "language_info": {
   "codemirror_mode": {
    "name": "ipython",
    "version": 3
   },
   "file_extension": ".py",
   "mimetype": "text/x-python",
   "name": "python",
   "nbconvert_exporter": "python",
   "pygments_lexer": "ipython3",
   "version": "3.11.6"
  }
 },
 "nbformat": 4,
 "nbformat_minor": 2
}
