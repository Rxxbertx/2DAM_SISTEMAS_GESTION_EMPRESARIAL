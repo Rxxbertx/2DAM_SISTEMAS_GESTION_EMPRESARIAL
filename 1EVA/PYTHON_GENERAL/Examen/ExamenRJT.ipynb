{
 "cells": [
  {
   "cell_type": "markdown",
   "metadata": {},
   "source": [
    "## Ejercicio1\n",
    "\n",
    "Escribe un programa llamado operaciones que, dados dos números, \n",
    "realice las operaciones de suma, resta, multiplicación y división, \n",
    "e imprima los resultados  de una de las dos maneras que te muestro a continuación:\n",
    "\n"
   ]
  },
  {
   "cell_type": "code",
   "execution_count": 1,
   "metadata": {},
   "outputs": [
    {
     "name": "stdout",
     "output_type": "stream",
     "text": [
      "Suma: 7\n",
      "Resta: 3\n",
      "Multiplicacion: 10\n",
      "Division: 2.5\n"
     ]
    }
   ],
   "source": [
    "def operaciones(num1,num2):\n",
    "\n",
    "    print (f\"Suma: {num1+num2}\")\n",
    "    print (f\"Resta: {num1-num2}\")\n",
    "    print (f\"Multiplicacion: {num1*num2}\")\n",
    "    if num2==0:\n",
    "        print(\"No se puede dividir entre 0\")\n",
    "    else:\n",
    "        print (f\"Division: {num1/num2}\")\n",
    "\n",
    "operaciones(5,2)"
   ]
  },
  {
   "cell_type": "markdown",
   "metadata": {},
   "source": [
    "## Ejercicio2\n",
    "\n",
    "\n",
    "Escribe un programa llamado es_primo() que determine si es primo o no, \n",
    "devolviendo verdadero si lo es y falso si no\n",
    "\n"
   ]
  },
  {
   "cell_type": "code",
   "execution_count": 6,
   "metadata": {},
   "outputs": [
    {
     "name": "stdout",
     "output_type": "stream",
     "text": [
      "True\n",
      "False\n"
     ]
    }
   ],
   "source": [
    "def esPrimo(num):\n",
    "    \n",
    "    for i in range(1,num+1):\n",
    "        if num%i==0 and num != i and i != 1:\n",
    "            return False\n",
    "    \n",
    "    return True\n",
    "\n",
    "print(esPrimo(3))\n",
    "print(esPrimo(1125899839733759))\n"
   ]
  },
  {
   "cell_type": "markdown",
   "metadata": {},
   "source": [
    "## Ejercicio3\n",
    "\n",
    "Implementa una función llamada utilidades_listas() que tome una lista de números y realice las siguientes operaciones:\n",
    "\n",
    "    Muestra la lista original.\n",
    "    Calcula la suma de los elementos.\n",
    "    Encuentra el valor máximo y mínimo.\n",
    "    Imprime la lista ordenada de menor a mayor.\n",
    "\n",
    "\n",
    "\n",
    "\n",
    "\n"
   ]
  },
  {
   "cell_type": "code",
   "execution_count": 7,
   "metadata": {},
   "outputs": [
    {
     "name": "stdout",
     "output_type": "stream",
     "text": [
      "Lista original: [5, 3, 1, 2]\n",
      "Suma de sus elementos: 11\n",
      "Valor máximo: 5\n",
      "Valor minimo: 1\n",
      "Lista ordenada:  [1, 2, 3, 5]\n"
     ]
    }
   ],
   "source": [
    "def utilidades_listas(lista:list):\n",
    "\n",
    "    print(f\"Lista original: {lista}\")\n",
    "    print(\"Suma de sus elementos:\",sum(lista))\n",
    "    print(\"Valor máximo:\",max(lista))\n",
    "    print(\"Valor minimo:\",min(lista))\n",
    "    print(\"Lista ordenada: \",sorted(lista))\n",
    "\n",
    "utilidades_listas([5,3,1,2])\n"
   ]
  },
  {
   "cell_type": "markdown",
   "metadata": {},
   "source": [
    "## Ejercicio4\n",
    "\n",
    "Desarrolla un programa que simule una agenda de contactos. \n",
    "Utiliza un diccionario donde las \n",
    "claves son los nombres y los valores son sus números de teléfono. \n",
    "Permite al usuario agregar nuevos contactos, \n",
    "buscar un número de teléfono por nombre y eliminar contactos.\n",
    "\n",
    "Apóyate en este código para que te sea más sencillo:\n",
    "\n"
   ]
  },
  {
   "cell_type": "code",
   "execution_count": 1,
   "metadata": {},
   "outputs": [
    {
     "name": "stdout",
     "output_type": "stream",
     "text": [
      "\n",
      "*** Menú de Agenda ***\n",
      "1. Agregar contacto\n",
      "2. Buscar contacto por nombre\n",
      "3. Eliminar contacto\n",
      "4. Mostrar todos los contactos\n",
      "5. Salir\n",
      "Opción no válida, seleccione del 1 al 5\n",
      "\n",
      "*** Menú de Agenda ***\n",
      "1. Agregar contacto\n",
      "2. Buscar contacto por nombre\n",
      "3. Eliminar contacto\n",
      "4. Mostrar todos los contactos\n",
      "5. Salir\n",
      "Opción no válida, seleccione del 1 al 5\n",
      "\n",
      "*** Menú de Agenda ***\n",
      "1. Agregar contacto\n",
      "2. Buscar contacto por nombre\n",
      "3. Eliminar contacto\n",
      "4. Mostrar todos los contactos\n",
      "5. Salir\n",
      "CONTACTOS EN LA AGENDA\n",
      "Nombre: roberto Telefono: 12345678\n",
      "\n",
      "*** Menú de Agenda ***\n",
      "1. Agregar contacto\n",
      "2. Buscar contacto por nombre\n",
      "3. Eliminar contacto\n",
      "4. Mostrar todos los contactos\n",
      "5. Salir\n"
     ]
    }
   ],
   "source": [
    "\n",
    "\n",
    "\n",
    "agenda = {}\n",
    "\n",
    "agenda[\"roberto\"]=123456789\n",
    "\n",
    "def agregarContacto():\n",
    "    \n",
    "    while(True):\n",
    "\n",
    "        clave:str=str(input(\"Dime el nombre del contacto que deseas agregar: (para salir escriba X)\"))\n",
    "            \n",
    "        if clave == \"X\" or clave == \"x\":\n",
    "            return\n",
    "        \n",
    "        if not clave:\n",
    "            print(\"Error, debes ingresar un nombre valido\")\n",
    "            continue\n",
    "        \n",
    "        valor:str=str(input(f\"Ingresa el telefono para el contacto: {clave}: \"))\n",
    "\n",
    "        if not valor.isnumeric() or len(valor)<9:\n",
    "            print(\"Error, debes ingresar un telefono valido\")\n",
    "            continue\n",
    "        \n",
    "        agenda[clave]=valor\n",
    "\n",
    "        print(\"CONTACTO AGREGADO CORRECTAMENTE\")\n",
    "\n",
    "def buscarContacto():\n",
    "\n",
    "    while(True):\n",
    "\n",
    "        clave:str=str(input(\"Dime el nombre del contacto que deseas buscar: (para salir escriba X)\"))\n",
    "            \n",
    "        if clave == \"X\" or clave == \"x\":\n",
    "            return\n",
    "        \n",
    "        if not clave:\n",
    "            print(\"Error, debes ingresar algo\")\n",
    "            continue\n",
    "\n",
    "        if not agenda.get(clave):\n",
    "            print(f\"{clave} no existe\")\n",
    "            continue\n",
    "        \n",
    "        print(f\"Contacto: {clave} Telefono: {agenda[clave]}\")\n",
    "\n",
    "def eliminarContacto():\n",
    "\n",
    "\n",
    "    while(True):\n",
    "\n",
    "        clave:str=str(input(\"Dime el nombre del contacto que deseas eliminar: (para salir escriba X)\"))\n",
    "        \n",
    "        if clave == \"X\" or clave == \"x\":\n",
    "            return\n",
    "        \n",
    "\n",
    "        if not clave:\n",
    "            print(\"Error, debes ingresar algo\")\n",
    "            continue\n",
    "            \n",
    "        if not agenda.get(clave):\n",
    "            print(f\"{clave} no existe\")\n",
    "            continue\n",
    "\n",
    "        del agenda[clave]\n",
    "        print(f\"CONTACTO {clave} ELIMINADO CORRECTAMENTE\")\n",
    "\n",
    "def mostrarContactos():\n",
    "\n",
    "    print(\"CONTACTOS EN LA AGENDA\")\n",
    "\n",
    "    if not agenda.items():\n",
    "        print(\"NO TIENES NIGUN CONTACTO CREADO\")\n",
    "        return\n",
    "\n",
    "    for clave,valor in agenda.items():\n",
    "        print(f\"Nombre: {clave} Telefono: {valor}\")\n",
    "\n",
    "\n",
    "while True:\n",
    "    print(\"\\n*** Menú de Agenda ***\")\n",
    "    print(\"1. Agregar contacto\")\n",
    "    print(\"2. Buscar contacto por nombre\")\n",
    "    print(\"3. Eliminar contacto\")\n",
    "    print(\"4. Mostrar todos los contactos\")\n",
    "    print(\"5. Salir\")\n",
    "\n",
    "    opcion = input(\"Seleccione una opción (1-5): \")\n",
    "\n",
    "    if opcion == \"1\":\n",
    "        agregarContacto()\n",
    "    elif opcion == \"2\":\n",
    "        buscarContacto()\n",
    "    elif opcion == \"3\":\n",
    "        eliminarContacto()\n",
    "    elif opcion == \"4\":\n",
    "        mostrarContactos()\n",
    "    elif opcion == \"5\":\n",
    "        break\n",
    "    else:\n",
    "        print(\"Opción no válida, seleccione del 1 al 5\")\n",
    "\n"
   ]
  }
 ],
 "metadata": {
  "kernelspec": {
   "display_name": "Python 3",
   "language": "python",
   "name": "python3"
  },
  "language_info": {
   "codemirror_mode": {
    "name": "ipython",
    "version": 3
   },
   "file_extension": ".py",
   "mimetype": "text/x-python",
   "name": "python",
   "nbconvert_exporter": "python",
   "pygments_lexer": "ipython3",
   "version": "3.11.6"
  }
 },
 "nbformat": 4,
 "nbformat_minor": 2
}
